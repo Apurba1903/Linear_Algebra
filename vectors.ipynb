{
 "cells": [
  {
   "cell_type": "code",
   "execution_count": null,
   "metadata": {
    "colab": {
     "base_uri": "https://localhost:8080/"
    },
    "id": "8wF3jhTPICkp",
    "outputId": "5a8240fb-1f4f-442d-c1e7-ed8a217eda59"
   },
   "outputs": [],
   "source": [
    "# Distance from Origin -> Euclidean Norm\n",
    "# Define an n-dimensional vector A\n",
    "# Calculate the Euclidean distance from the origin (L2 norm)"
   ]
  },
  {
   "cell_type": "code",
   "execution_count": null,
   "metadata": {
    "colab": {
     "base_uri": "https://localhost:8080/"
    },
    "id": "N_WO2cZvIM2q",
    "outputId": "c9b36f99-6753-4eb0-fd7f-dd5a65f5d94a"
   },
   "outputs": [],
   "source": [
    "# To find euclidean distance in n-D\n",
    "# Define two n-dimensional vectors A and B\n",
    "# Calculate the difference vector"
   ]
  },
  {
   "cell_type": "code",
   "execution_count": null,
   "metadata": {
    "colab": {
     "base_uri": "https://localhost:8080/"
    },
    "id": "JuSlfPL7IxDF",
    "outputId": "b93ce243-8cf1-426d-a8e1-1120b7160ab1"
   },
   "outputs": [],
   "source": [
    "# Calculate the Euclidean distance between A and B (L2 norm of the difference)"
   ]
  },
  {
   "cell_type": "code",
   "execution_count": null,
   "metadata": {
    "colab": {
     "base_uri": "https://localhost:8080/",
     "height": 444
    },
    "id": "0Rt1Sfh3LC4J",
    "outputId": "1c7cf52d-12a1-4f01-e3b8-74dc910b9063"
   },
   "outputs": [],
   "source": [
    "# 1. Generate 5 random 3D vectors\n",
    "# 2. Assign a random class (0 or 1) to each vector\n",
    "# 3. Plot the vectors on a 3D Matplotlib graph\n",
    "# 4. Get user input for a query point (3D vector)\n",
    "# 5. Calculate the distance from the query vector to the 5 vectors and find the nearest neighbor\n",
    "# 6. Output the class of the nearest neighbor\n",
    "# 7. Plot the query vector with a different color"
   ]
  },
  {
   "cell_type": "code",
   "execution_count": null,
   "metadata": {
    "colab": {
     "base_uri": "https://localhost:8080/"
    },
    "id": "gqN-ao6nJn2X",
    "outputId": "74f556b6-8559-483f-da47-1513333926f1"
   },
   "outputs": [],
   "source": [
    "# Generate random 2D data with 100 points"
   ]
  },
  {
   "cell_type": "code",
   "execution_count": null,
   "metadata": {
    "colab": {
     "base_uri": "https://localhost:8080/",
     "height": 581
    },
    "id": "2l-slqy0OJ6w",
    "outputId": "47d10d96-5328-4649-b829-eb4fb48c4c92"
   },
   "outputs": [],
   "source": [
    "# Plot the original data"
   ]
  },
  {
   "cell_type": "code",
   "execution_count": null,
   "metadata": {
    "colab": {
     "base_uri": "https://localhost:8080/"
    },
    "id": "o9OxaIVWMhy9",
    "outputId": "0b945134-0e81-4eeb-9b30-b97ec928b15e"
   },
   "outputs": [],
   "source": [
    "# Calculate the mean of the data along each dimension\n",
    "# Perform mean centering"
   ]
  },
  {
   "cell_type": "code",
   "execution_count": null,
   "metadata": {
    "colab": {
     "base_uri": "https://localhost:8080/",
     "height": 472
    },
    "id": "7GIwd7uSOQD8",
    "outputId": "0b96bf37-4756-4e57-dea0-b17d09318cd6"
   },
   "outputs": [],
   "source": [
    "# Plot the mean-centered data"
   ]
  },
  {
   "cell_type": "code",
   "execution_count": null,
   "metadata": {
    "colab": {
     "base_uri": "https://localhost:8080/",
     "height": 564
    },
    "id": "57Zwh7dKMzDp",
    "outputId": "30a3a195-2199-40ef-a4bc-34401e436e34"
   },
   "outputs": [],
   "source": [
    "# Generate random 2D data with 100 points\n",
    "# Calculate the mean of the data along each dimension\n",
    "# Perform mean centering\n",
    "# Plot the original data\n",
    "# Plot the mean-centered data"
   ]
  },
  {
   "cell_type": "code",
   "execution_count": null,
   "metadata": {
    "colab": {
     "base_uri": "https://localhost:8080/",
     "height": 564
    },
    "id": "BGGbwy6vM4AL",
    "outputId": "b43b458b-90b8-44eb-e4a9-58d58d130b01"
   },
   "outputs": [],
   "source": [
    "# Generate 100 random 2D Vectors\n",
    "# Compute the MIN and MAX values for each feature\n",
    "# Apply min-max normalization (Scaling)\n",
    "# Plot the original data\n",
    "# Plot the normalized data"
   ]
  },
  {
   "cell_type": "code",
   "execution_count": null,
   "metadata": {
    "colab": {
     "base_uri": "https://localhost:8080/"
    },
    "id": "ujxH3N0T1FIr",
    "outputId": "fda970e9-e5ce-46d5-c0ab-18e6da6007d4"
   },
   "outputs": [],
   "source": [
    "# Define Three Vectors"
   ]
  },
  {
   "cell_type": "code",
   "execution_count": null,
   "metadata": {
    "colab": {
     "base_uri": "https://localhost:8080/"
    },
    "id": "cbbFYcXJiiq_",
    "outputId": "c84feb0c-d0e8-431e-a898-1b68b1e5d30f"
   },
   "outputs": [],
   "source": [
    "# Define Three Vectors\n",
    "# Calculate DOT product using numpy.dot() Function\n",
    "# Check Commutative Property: A • B = B • A"
   ]
  },
  {
   "cell_type": "code",
   "execution_count": null,
   "metadata": {
    "colab": {
     "base_uri": "https://localhost:8080/"
    },
    "id": "e6dSu-Rk1cqM",
    "outputId": "8f484498-4163-41b8-bffb-9d8432285b1d"
   },
   "outputs": [],
   "source": [
    "# Check Distributive Property: A • (B + C) = A • B + A • C"
   ]
  },
  {
   "cell_type": "code",
   "execution_count": null,
   "metadata": {
    "colab": {
     "base_uri": "https://localhost:8080/"
    },
    "id": "OTR5wFWx1rwN",
    "outputId": "2d5d081d-bf16-444a-aba6-de61be3e9f10"
   },
   "outputs": [],
   "source": [
    "# Define two Vectors\n",
    "# Calculate the Cosine Similarity\n",
    "# Calculate the Cosine Similarity"
   ]
  },
  {
   "cell_type": "code",
   "execution_count": null,
   "metadata": {
    "id": "f4QxVD2iDhya"
   },
   "outputs": [],
   "source": []
  }
 ],
 "metadata": {
  "colab": {
   "provenance": []
  },
  "kernelspec": {
   "display_name": "Python 3",
   "name": "python3"
  },
  "language_info": {
   "name": "python"
  }
 },
 "nbformat": 4,
 "nbformat_minor": 0
}
