{
 "cells": [
  {
   "cell_type": "code",
   "execution_count": 69,
   "id": "2e05be1c",
   "metadata": {},
   "outputs": [],
   "source": [
    "import numpy as np"
   ]
  },
  {
   "cell_type": "markdown",
   "id": "9ee965e3",
   "metadata": {},
   "source": [
    "#### Scaler / 0 Dimension Tensor"
   ]
  },
  {
   "cell_type": "code",
   "execution_count": 70,
   "id": "2b00a982",
   "metadata": {},
   "outputs": [],
   "source": [
    "a = np.array(4)"
   ]
  },
  {
   "cell_type": "code",
   "execution_count": 71,
   "id": "5daa0531",
   "metadata": {},
   "outputs": [
    {
     "data": {
      "text/plain": [
       "array(4)"
      ]
     },
     "execution_count": 71,
     "metadata": {},
     "output_type": "execute_result"
    }
   ],
   "source": [
    "a"
   ]
  },
  {
   "cell_type": "code",
   "execution_count": 72,
   "id": "7d52e98e",
   "metadata": {},
   "outputs": [
    {
     "data": {
      "text/plain": [
       "0"
      ]
     },
     "execution_count": 72,
     "metadata": {},
     "output_type": "execute_result"
    }
   ],
   "source": [
    "a.ndim"
   ]
  },
  {
   "cell_type": "markdown",
   "id": "7b8a7114",
   "metadata": {},
   "source": [
    "#### Vector / 1 Dimension Tensor"
   ]
  },
  {
   "cell_type": "code",
   "execution_count": 73,
   "id": "d4b20a3c",
   "metadata": {},
   "outputs": [],
   "source": [
    "ar = np.array([1,2,3,4])"
   ]
  },
  {
   "cell_type": "code",
   "execution_count": 74,
   "id": "8024c6b7",
   "metadata": {},
   "outputs": [
    {
     "data": {
      "text/plain": [
       "array([1, 2, 3, 4])"
      ]
     },
     "execution_count": 74,
     "metadata": {},
     "output_type": "execute_result"
    }
   ],
   "source": [
    "ar"
   ]
  },
  {
   "cell_type": "markdown",
   "id": "6e83f5a5",
   "metadata": {},
   "source": [
    "1D Tensor is Vector but the len of the Vector decides what is the Vector Dimension. \n",
    "\n",
    "In this case, it is a 4D Vector and a 1D Tensor.\n",
    "\n",
    "\n",
    "`Vectors are nothing but collection of Scalers`"
   ]
  },
  {
   "cell_type": "code",
   "execution_count": 75,
   "id": "db84a92e",
   "metadata": {},
   "outputs": [
    {
     "data": {
      "text/plain": [
       "1"
      ]
     },
     "execution_count": 75,
     "metadata": {},
     "output_type": "execute_result"
    }
   ],
   "source": [
    "ar.ndim"
   ]
  },
  {
   "cell_type": "markdown",
   "id": "6a925e7c",
   "metadata": {},
   "source": [
    "#### Matrices / 2 Dimension Tensor"
   ]
  },
  {
   "cell_type": "code",
   "execution_count": 76,
   "id": "00ece3ea",
   "metadata": {},
   "outputs": [],
   "source": [
    "arr = np.array([[1,2,3,4],[1,2,3,4],[1,2,3,4]])"
   ]
  },
  {
   "cell_type": "code",
   "execution_count": 77,
   "id": "ae347611",
   "metadata": {},
   "outputs": [
    {
     "data": {
      "text/plain": [
       "array([[1, 2, 3, 4],\n",
       "       [1, 2, 3, 4],\n",
       "       [1, 2, 3, 4]])"
      ]
     },
     "execution_count": 77,
     "metadata": {},
     "output_type": "execute_result"
    }
   ],
   "source": [
    "arr"
   ]
  },
  {
   "cell_type": "markdown",
   "id": "279e017d",
   "metadata": {},
   "source": [
    "`Matrices are nothing but collection of Vectors`"
   ]
  },
  {
   "cell_type": "code",
   "execution_count": 78,
   "id": "bb62b6d0",
   "metadata": {},
   "outputs": [
    {
     "data": {
      "text/plain": [
       "2"
      ]
     },
     "execution_count": 78,
     "metadata": {},
     "output_type": "execute_result"
    }
   ],
   "source": [
    "arr.ndim"
   ]
  },
  {
   "cell_type": "markdown",
   "id": "0559b4af",
   "metadata": {},
   "source": [
    "#### 3 Dimension Tensor"
   ]
  },
  {
   "cell_type": "code",
   "execution_count": 79,
   "id": "de52cb11",
   "metadata": {},
   "outputs": [],
   "source": [
    "arrr = np.array([\n",
    "    [[1,2,3,4],[1,2,3,4],[1,2,3,4]],\n",
    "    [[1,2,3,4],[1,2,3,4],[1,2,3,4]],\n",
    "    [[1,2,3,4],[1,2,3,4],[1,2,3,4]]\n",
    "])"
   ]
  },
  {
   "cell_type": "code",
   "execution_count": 80,
   "id": "3247499e",
   "metadata": {},
   "outputs": [
    {
     "data": {
      "text/plain": [
       "array([[[1, 2, 3, 4],\n",
       "        [1, 2, 3, 4],\n",
       "        [1, 2, 3, 4]],\n",
       "\n",
       "       [[1, 2, 3, 4],\n",
       "        [1, 2, 3, 4],\n",
       "        [1, 2, 3, 4]],\n",
       "\n",
       "       [[1, 2, 3, 4],\n",
       "        [1, 2, 3, 4],\n",
       "        [1, 2, 3, 4]]])"
      ]
     },
     "execution_count": 80,
     "metadata": {},
     "output_type": "execute_result"
    }
   ],
   "source": [
    "arrr"
   ]
  },
  {
   "cell_type": "markdown",
   "id": "d2b57c03",
   "metadata": {},
   "source": [
    "`3D Tensors are nothing but collection of Matrices`"
   ]
  },
  {
   "cell_type": "code",
   "execution_count": 81,
   "id": "5c7075dc",
   "metadata": {},
   "outputs": [
    {
     "data": {
      "text/plain": [
       "3"
      ]
     },
     "execution_count": 81,
     "metadata": {},
     "output_type": "execute_result"
    }
   ],
   "source": [
    "arrr.ndim"
   ]
  }
 ],
 "metadata": {
  "kernelspec": {
   "display_name": "Python 3",
   "language": "python",
   "name": "python3"
  },
  "language_info": {
   "codemirror_mode": {
    "name": "ipython",
    "version": 3
   },
   "file_extension": ".py",
   "mimetype": "text/x-python",
   "name": "python",
   "nbconvert_exporter": "python",
   "pygments_lexer": "ipython3",
   "version": "3.11.9"
  }
 },
 "nbformat": 4,
 "nbformat_minor": 5
}
